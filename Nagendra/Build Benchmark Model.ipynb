{
 "cells": [
  {
   "cell_type": "markdown",
   "id": "57daf697",
   "metadata": {},
   "source": [
    "# Task 2\n",
    "\n",
    "##  Build a benchmark model for the given dataset"
   ]
  },
  {
   "cell_type": "markdown",
   "id": "387b90e3",
   "metadata": {},
   "source": [
    "#### Import  libraries"
   ]
  },
  {
   "cell_type": "code",
   "execution_count": 1,
   "id": "94b8594e",
   "metadata": {},
   "outputs": [],
   "source": [
    "# Import Libraries\n",
    "\n",
    "import pandas as pd\n",
    "import numpy as np\n",
    "import matplotlib.pyplot as plt\n",
    "from sklearn.utils import shuffle\n",
    "from sklearn.metrics import mean_squared_error as mse\n",
    "from math import sqrt\n",
    "import warnings\n",
    "warnings.filterwarnings('ignore')\n",
    "import seaborn as sns\n"
   ]
  },
  {
   "cell_type": "code",
   "execution_count": 2,
   "id": "b78a3bc6",
   "metadata": {},
   "outputs": [],
   "source": [
    "df = pd.read_csv(\"nyc_taxi_trip_duration.csv\")"
   ]
  },
  {
   "cell_type": "code",
   "execution_count": 3,
   "id": "e4cb3f85",
   "metadata": {},
   "outputs": [
    {
     "data": {
      "text/html": [
       "<div>\n",
       "<style scoped>\n",
       "    .dataframe tbody tr th:only-of-type {\n",
       "        vertical-align: middle;\n",
       "    }\n",
       "\n",
       "    .dataframe tbody tr th {\n",
       "        vertical-align: top;\n",
       "    }\n",
       "\n",
       "    .dataframe thead th {\n",
       "        text-align: right;\n",
       "    }\n",
       "</style>\n",
       "<table border=\"1\" class=\"dataframe\">\n",
       "  <thead>\n",
       "    <tr style=\"text-align: right;\">\n",
       "      <th></th>\n",
       "      <th>id</th>\n",
       "      <th>vendor_id</th>\n",
       "      <th>pickup_datetime</th>\n",
       "      <th>dropoff_datetime</th>\n",
       "      <th>passenger_count</th>\n",
       "      <th>pickup_longitude</th>\n",
       "      <th>pickup_latitude</th>\n",
       "      <th>dropoff_longitude</th>\n",
       "      <th>dropoff_latitude</th>\n",
       "      <th>store_and_fwd_flag</th>\n",
       "      <th>trip_duration</th>\n",
       "    </tr>\n",
       "  </thead>\n",
       "  <tbody>\n",
       "    <tr>\n",
       "      <th>0</th>\n",
       "      <td>id1080784</td>\n",
       "      <td>2</td>\n",
       "      <td>2016-02-29 16:40:21</td>\n",
       "      <td>2016-02-29 16:47:01</td>\n",
       "      <td>1</td>\n",
       "      <td>-73.953918</td>\n",
       "      <td>40.778873</td>\n",
       "      <td>-73.963875</td>\n",
       "      <td>40.771164</td>\n",
       "      <td>N</td>\n",
       "      <td>400</td>\n",
       "    </tr>\n",
       "    <tr>\n",
       "      <th>1</th>\n",
       "      <td>id0889885</td>\n",
       "      <td>1</td>\n",
       "      <td>2016-03-11 23:35:37</td>\n",
       "      <td>2016-03-11 23:53:57</td>\n",
       "      <td>2</td>\n",
       "      <td>-73.988312</td>\n",
       "      <td>40.731743</td>\n",
       "      <td>-73.994751</td>\n",
       "      <td>40.694931</td>\n",
       "      <td>N</td>\n",
       "      <td>1100</td>\n",
       "    </tr>\n",
       "    <tr>\n",
       "      <th>2</th>\n",
       "      <td>id0857912</td>\n",
       "      <td>2</td>\n",
       "      <td>2016-02-21 17:59:33</td>\n",
       "      <td>2016-02-21 18:26:48</td>\n",
       "      <td>2</td>\n",
       "      <td>-73.997314</td>\n",
       "      <td>40.721458</td>\n",
       "      <td>-73.948029</td>\n",
       "      <td>40.774918</td>\n",
       "      <td>N</td>\n",
       "      <td>1635</td>\n",
       "    </tr>\n",
       "    <tr>\n",
       "      <th>3</th>\n",
       "      <td>id3744273</td>\n",
       "      <td>2</td>\n",
       "      <td>2016-01-05 09:44:31</td>\n",
       "      <td>2016-01-05 10:03:32</td>\n",
       "      <td>6</td>\n",
       "      <td>-73.961670</td>\n",
       "      <td>40.759720</td>\n",
       "      <td>-73.956779</td>\n",
       "      <td>40.780628</td>\n",
       "      <td>N</td>\n",
       "      <td>1141</td>\n",
       "    </tr>\n",
       "    <tr>\n",
       "      <th>4</th>\n",
       "      <td>id0232939</td>\n",
       "      <td>1</td>\n",
       "      <td>2016-02-17 06:42:23</td>\n",
       "      <td>2016-02-17 06:56:31</td>\n",
       "      <td>1</td>\n",
       "      <td>-74.017120</td>\n",
       "      <td>40.708469</td>\n",
       "      <td>-73.988182</td>\n",
       "      <td>40.740631</td>\n",
       "      <td>N</td>\n",
       "      <td>848</td>\n",
       "    </tr>\n",
       "  </tbody>\n",
       "</table>\n",
       "</div>"
      ],
      "text/plain": [
       "          id  vendor_id      pickup_datetime     dropoff_datetime  \\\n",
       "0  id1080784          2  2016-02-29 16:40:21  2016-02-29 16:47:01   \n",
       "1  id0889885          1  2016-03-11 23:35:37  2016-03-11 23:53:57   \n",
       "2  id0857912          2  2016-02-21 17:59:33  2016-02-21 18:26:48   \n",
       "3  id3744273          2  2016-01-05 09:44:31  2016-01-05 10:03:32   \n",
       "4  id0232939          1  2016-02-17 06:42:23  2016-02-17 06:56:31   \n",
       "\n",
       "   passenger_count  pickup_longitude  pickup_latitude  dropoff_longitude  \\\n",
       "0                1        -73.953918        40.778873         -73.963875   \n",
       "1                2        -73.988312        40.731743         -73.994751   \n",
       "2                2        -73.997314        40.721458         -73.948029   \n",
       "3                6        -73.961670        40.759720         -73.956779   \n",
       "4                1        -74.017120        40.708469         -73.988182   \n",
       "\n",
       "   dropoff_latitude store_and_fwd_flag  trip_duration  \n",
       "0         40.771164                  N            400  \n",
       "1         40.694931                  N           1100  \n",
       "2         40.774918                  N           1635  \n",
       "3         40.780628                  N           1141  \n",
       "4         40.740631                  N            848  "
      ]
     },
     "execution_count": 3,
     "metadata": {},
     "output_type": "execute_result"
    }
   ],
   "source": [
    "df.head()"
   ]
  },
  {
   "cell_type": "code",
   "execution_count": 4,
   "id": "8669d864",
   "metadata": {},
   "outputs": [
    {
     "data": {
      "text/html": [
       "<div>\n",
       "<style scoped>\n",
       "    .dataframe tbody tr th:only-of-type {\n",
       "        vertical-align: middle;\n",
       "    }\n",
       "\n",
       "    .dataframe tbody tr th {\n",
       "        vertical-align: top;\n",
       "    }\n",
       "\n",
       "    .dataframe thead th {\n",
       "        text-align: right;\n",
       "    }\n",
       "</style>\n",
       "<table border=\"1\" class=\"dataframe\">\n",
       "  <thead>\n",
       "    <tr style=\"text-align: right;\">\n",
       "      <th></th>\n",
       "      <th>id</th>\n",
       "      <th>vendor_id</th>\n",
       "      <th>pickup_datetime</th>\n",
       "      <th>dropoff_datetime</th>\n",
       "      <th>passenger_count</th>\n",
       "      <th>pickup_longitude</th>\n",
       "      <th>pickup_latitude</th>\n",
       "      <th>dropoff_longitude</th>\n",
       "      <th>dropoff_latitude</th>\n",
       "      <th>store_and_fwd_flag</th>\n",
       "      <th>trip_duration</th>\n",
       "      <th>trip_duration_mean</th>\n",
       "    </tr>\n",
       "  </thead>\n",
       "  <tbody>\n",
       "    <tr>\n",
       "      <th>0</th>\n",
       "      <td>id1080784</td>\n",
       "      <td>2</td>\n",
       "      <td>2016-02-29 16:40:21</td>\n",
       "      <td>2016-02-29 16:47:01</td>\n",
       "      <td>1</td>\n",
       "      <td>-73.953918</td>\n",
       "      <td>40.778873</td>\n",
       "      <td>-73.963875</td>\n",
       "      <td>40.771164</td>\n",
       "      <td>N</td>\n",
       "      <td>400</td>\n",
       "      <td>952.229133</td>\n",
       "    </tr>\n",
       "    <tr>\n",
       "      <th>1</th>\n",
       "      <td>id0889885</td>\n",
       "      <td>1</td>\n",
       "      <td>2016-03-11 23:35:37</td>\n",
       "      <td>2016-03-11 23:53:57</td>\n",
       "      <td>2</td>\n",
       "      <td>-73.988312</td>\n",
       "      <td>40.731743</td>\n",
       "      <td>-73.994751</td>\n",
       "      <td>40.694931</td>\n",
       "      <td>N</td>\n",
       "      <td>1100</td>\n",
       "      <td>952.229133</td>\n",
       "    </tr>\n",
       "    <tr>\n",
       "      <th>2</th>\n",
       "      <td>id0857912</td>\n",
       "      <td>2</td>\n",
       "      <td>2016-02-21 17:59:33</td>\n",
       "      <td>2016-02-21 18:26:48</td>\n",
       "      <td>2</td>\n",
       "      <td>-73.997314</td>\n",
       "      <td>40.721458</td>\n",
       "      <td>-73.948029</td>\n",
       "      <td>40.774918</td>\n",
       "      <td>N</td>\n",
       "      <td>1635</td>\n",
       "      <td>952.229133</td>\n",
       "    </tr>\n",
       "    <tr>\n",
       "      <th>3</th>\n",
       "      <td>id3744273</td>\n",
       "      <td>2</td>\n",
       "      <td>2016-01-05 09:44:31</td>\n",
       "      <td>2016-01-05 10:03:32</td>\n",
       "      <td>6</td>\n",
       "      <td>-73.961670</td>\n",
       "      <td>40.759720</td>\n",
       "      <td>-73.956779</td>\n",
       "      <td>40.780628</td>\n",
       "      <td>N</td>\n",
       "      <td>1141</td>\n",
       "      <td>952.229133</td>\n",
       "    </tr>\n",
       "    <tr>\n",
       "      <th>4</th>\n",
       "      <td>id0232939</td>\n",
       "      <td>1</td>\n",
       "      <td>2016-02-17 06:42:23</td>\n",
       "      <td>2016-02-17 06:56:31</td>\n",
       "      <td>1</td>\n",
       "      <td>-74.017120</td>\n",
       "      <td>40.708469</td>\n",
       "      <td>-73.988182</td>\n",
       "      <td>40.740631</td>\n",
       "      <td>N</td>\n",
       "      <td>848</td>\n",
       "      <td>952.229133</td>\n",
       "    </tr>\n",
       "  </tbody>\n",
       "</table>\n",
       "</div>"
      ],
      "text/plain": [
       "          id  vendor_id      pickup_datetime     dropoff_datetime  \\\n",
       "0  id1080784          2  2016-02-29 16:40:21  2016-02-29 16:47:01   \n",
       "1  id0889885          1  2016-03-11 23:35:37  2016-03-11 23:53:57   \n",
       "2  id0857912          2  2016-02-21 17:59:33  2016-02-21 18:26:48   \n",
       "3  id3744273          2  2016-01-05 09:44:31  2016-01-05 10:03:32   \n",
       "4  id0232939          1  2016-02-17 06:42:23  2016-02-17 06:56:31   \n",
       "\n",
       "   passenger_count  pickup_longitude  pickup_latitude  dropoff_longitude  \\\n",
       "0                1        -73.953918        40.778873         -73.963875   \n",
       "1                2        -73.988312        40.731743         -73.994751   \n",
       "2                2        -73.997314        40.721458         -73.948029   \n",
       "3                6        -73.961670        40.759720         -73.956779   \n",
       "4                1        -74.017120        40.708469         -73.988182   \n",
       "\n",
       "   dropoff_latitude store_and_fwd_flag  trip_duration  trip_duration_mean  \n",
       "0         40.771164                  N            400          952.229133  \n",
       "1         40.694931                  N           1100          952.229133  \n",
       "2         40.774918                  N           1635          952.229133  \n",
       "3         40.780628                  N           1141          952.229133  \n",
       "4         40.740631                  N            848          952.229133  "
      ]
     },
     "execution_count": 4,
     "metadata": {},
     "output_type": "execute_result"
    }
   ],
   "source": [
    "# simple prediction model\n",
    "\n",
    "# take a mean of trip duration\n",
    "\n",
    "df[\"trip_duration_mean\"]=df[\"trip_duration\"].mean()\n",
    "df.head()"
   ]
  },
  {
   "cell_type": "code",
   "execution_count": 5,
   "id": "36112076",
   "metadata": {},
   "outputs": [
    {
     "data": {
      "text/plain": [
       "<matplotlib.legend.Legend at 0x1e7ce9a9220>"
      ]
     },
     "execution_count": 5,
     "metadata": {},
     "output_type": "execute_result"
    },
    {
     "data": {
      "image/png": "[encoded data removed]",
      "text/plain": [
       "<Figure size 1000x500 with 1 Axes>"
      ]
     },
     "metadata": {},
     "output_type": "display_data"
    }
   ],
   "source": [
    "# Lets visualize actual trip duration and predicted trip duration by  plotting\n",
    "\n",
    "plt.figure(figsize=(10,5))\n",
    "k = range(0,len(df))\n",
    "plt.scatter(k,df[\"trip_duration\"].sort_values(),color=\"orange\",label=\"Actual trip duration\")\n",
    "plt.plot(k,df[\"trip_duration_mean\"].sort_values(),color =\"blue\",label=\"Predicted trip duration\")\n",
    "plt.xlabel(\"fitted points (by sorted values)\")\n",
    "plt.ylabel(\"trip duration\")\n",
    "plt.title(\"overall mean\")\n",
    "plt.legend()\n",
    "\n"
   ]
  },
  {
   "cell_type": "markdown",
   "id": "094e4bc0",
   "metadata": {},
   "source": [
    "## Observation\n",
    "\n",
    "In conclusion, we can reasonably conclude that our actual trip duration is almost the same as our predicted trip duration."
   ]
  },
  {
   "cell_type": "code",
   "execution_count": 6,
   "id": "617c1c11",
   "metadata": {},
   "outputs": [
    {
     "data": {
      "text/plain": [
       "count    202.589444\n",
       "mean       0.264508\n",
       "std        1.073507\n",
       "min        0.000278\n",
       "25%        0.110278\n",
       "50%        0.184167\n",
       "75%        0.298611\n",
       "max      538.815556\n",
       "Name: trip_duration, dtype: float64"
      ]
     },
     "execution_count": 6,
     "metadata": {},
     "output_type": "execute_result"
    }
   ],
   "source": [
    "# Trip duration in hours\n",
    "\n",
    "df['trip_duration'].describe()/3600"
   ]
  },
  {
   "cell_type": "code",
   "execution_count": 7,
   "id": "dc2ad814",
   "metadata": {},
   "outputs": [
    {
     "data": {
      "image/png": "[encoded data removed]",
      "text/plain": [
       "<Figure size 640x480 with 1 Axes>"
      ]
     },
     "metadata": {},
     "output_type": "display_data"
    }
   ],
   "source": [
    "\n",
    "sns.boxplot(df['trip_duration']/3600)\n",
    "plt.ylabel(\"Time in Houres\")\n",
    "plt.show()"
   ]
  },
  {
   "cell_type": "code",
   "execution_count": 12,
   "id": "57ef8f93",
   "metadata": {},
   "outputs": [
    {
     "data": {
      "text/plain": [
       "1"
      ]
     },
     "execution_count": 12,
     "metadata": {},
     "output_type": "execute_result"
    }
   ],
   "source": [
    "df.trip_duration.min()"
   ]
  },
  {
   "cell_type": "code",
   "execution_count": 13,
   "id": "d9268ee0",
   "metadata": {},
   "outputs": [
    {
     "data": {
      "text/plain": [
       "1939736"
      ]
     },
     "execution_count": 13,
     "metadata": {},
     "output_type": "execute_result"
    }
   ],
   "source": [
    "df.trip_duration.max()"
   ]
  },
  {
   "cell_type": "markdown",
   "id": "6106cc2c",
   "metadata": {},
   "source": [
    "## Observations:\n",
    "    1.Some trip durations are over 500 hr which is over 20 days may be this is a outstation journy\n",
    "    2.There are some durations with as low as 1 second. which points towards trips with 0 km distance.\n",
    "    3.Major trip durations took between 10-20 mins to complete.\n",
    "    4.Mean and mode are not same which shows that trip duration distribution is skewed towards right."
   ]
  },
  {
   "cell_type": "code",
   "execution_count": 17,
   "id": "a309bd10",
   "metadata": {},
   "outputs": [
    {
     "name": "stdout",
     "output_type": "stream",
     "text": [
      "(array([21813], dtype=int64),)\n"
     ]
    }
   ],
   "source": [
    "# Check Index\n",
    "print(np.where(df.trip_duration>=1939736))"
   ]
  },
  {
   "cell_type": "code",
   "execution_count": 18,
   "id": "0c2f2e8a",
   "metadata": {},
   "outputs": [
    {
     "data": {
      "text/plain": [
       "id                              id1864733\n",
       "vendor_id                               1\n",
       "pickup_datetime       2016-01-05 00:19:42\n",
       "dropoff_datetime      2016-01-27 11:08:38\n",
       "passenger_count                         1\n",
       "pickup_longitude                -73.78965\n",
       "pickup_latitude                 40.643559\n",
       "dropoff_longitude               -73.95681\n",
       "dropoff_latitude                40.773087\n",
       "store_and_fwd_flag                      N\n",
       "trip_duration                     1939736\n",
       "trip_duration_mean             952.229133\n",
       "Name: 21813, dtype: object"
      ]
     },
     "execution_count": 18,
     "metadata": {},
     "output_type": "execute_result"
    }
   ],
   "source": [
    "df.iloc[21813]"
   ]
  },
  {
   "cell_type": "code",
   "execution_count": 19,
   "id": "feb28d4b",
   "metadata": {},
   "outputs": [],
   "source": [
    "#Remove outlier\n",
    "\n",
    "df.drop(df.index[21813],inplace=True)"
   ]
  },
  {
   "cell_type": "code",
   "execution_count": 34,
   "id": "42452826",
   "metadata": {},
   "outputs": [],
   "source": [
    "# Shuffling the Dataset\n",
    "df = shuffle(df, random_state = 40)\n",
    "\n",
    "#creating 4 divisions\n",
    "div = int(df.shape[0]/4)\n",
    "\n",
    "# 3 parts to train set and 1 part to test set\n",
    "\n",
    "train = df.loc[:3*div+1,:]\n",
    "test = df.loc[3*div+1:]"
   ]
  },
  {
   "cell_type": "code",
   "execution_count": 35,
   "id": "165fdecf",
   "metadata": {},
   "outputs": [
    {
     "data": {
      "text/html": [
       "<div>\n",
       "<style scoped>\n",
       "    .dataframe tbody tr th:only-of-type {\n",
       "        vertical-align: middle;\n",
       "    }\n",
       "\n",
       "    .dataframe tbody tr th {\n",
       "        vertical-align: top;\n",
       "    }\n",
       "\n",
       "    .dataframe thead th {\n",
       "        text-align: right;\n",
       "    }\n",
       "</style>\n",
       "<table border=\"1\" class=\"dataframe\">\n",
       "  <thead>\n",
       "    <tr style=\"text-align: right;\">\n",
       "      <th></th>\n",
       "      <th>id</th>\n",
       "      <th>vendor_id</th>\n",
       "      <th>pickup_datetime</th>\n",
       "      <th>dropoff_datetime</th>\n",
       "      <th>passenger_count</th>\n",
       "      <th>pickup_longitude</th>\n",
       "      <th>pickup_latitude</th>\n",
       "      <th>dropoff_longitude</th>\n",
       "      <th>dropoff_latitude</th>\n",
       "      <th>store_and_fwd_flag</th>\n",
       "      <th>trip_duration</th>\n",
       "      <th>trip_duration_mean</th>\n",
       "    </tr>\n",
       "  </thead>\n",
       "  <tbody>\n",
       "    <tr>\n",
       "      <th>34578</th>\n",
       "      <td>id0224449</td>\n",
       "      <td>1</td>\n",
       "      <td>2016-06-29 13:01:56</td>\n",
       "      <td>2016-06-29 13:10:52</td>\n",
       "      <td>1</td>\n",
       "      <td>-73.994011</td>\n",
       "      <td>40.726788</td>\n",
       "      <td>-73.989815</td>\n",
       "      <td>40.725601</td>\n",
       "      <td>N</td>\n",
       "      <td>536</td>\n",
       "      <td>952.229133</td>\n",
       "    </tr>\n",
       "    <tr>\n",
       "      <th>570415</th>\n",
       "      <td>id1754958</td>\n",
       "      <td>1</td>\n",
       "      <td>2016-05-31 07:34:14</td>\n",
       "      <td>2016-05-31 07:41:35</td>\n",
       "      <td>2</td>\n",
       "      <td>-73.991646</td>\n",
       "      <td>40.750084</td>\n",
       "      <td>-74.003021</td>\n",
       "      <td>40.755383</td>\n",
       "      <td>N</td>\n",
       "      <td>441</td>\n",
       "      <td>952.229133</td>\n",
       "    </tr>\n",
       "    <tr>\n",
       "      <th>181037</th>\n",
       "      <td>id3767891</td>\n",
       "      <td>1</td>\n",
       "      <td>2016-02-25 23:08:28</td>\n",
       "      <td>2016-02-25 23:14:44</td>\n",
       "      <td>1</td>\n",
       "      <td>-73.994263</td>\n",
       "      <td>40.724880</td>\n",
       "      <td>-74.005699</td>\n",
       "      <td>40.732235</td>\n",
       "      <td>N</td>\n",
       "      <td>376</td>\n",
       "      <td>952.229133</td>\n",
       "    </tr>\n",
       "    <tr>\n",
       "      <th>40245</th>\n",
       "      <td>id1596279</td>\n",
       "      <td>1</td>\n",
       "      <td>2016-04-14 23:17:18</td>\n",
       "      <td>2016-04-14 23:20:21</td>\n",
       "      <td>1</td>\n",
       "      <td>-73.979431</td>\n",
       "      <td>40.781830</td>\n",
       "      <td>-73.968597</td>\n",
       "      <td>40.786777</td>\n",
       "      <td>N</td>\n",
       "      <td>183</td>\n",
       "      <td>952.229133</td>\n",
       "    </tr>\n",
       "    <tr>\n",
       "      <th>630600</th>\n",
       "      <td>id1856925</td>\n",
       "      <td>1</td>\n",
       "      <td>2016-02-24 13:30:53</td>\n",
       "      <td>2016-02-24 13:34:26</td>\n",
       "      <td>1</td>\n",
       "      <td>-73.998466</td>\n",
       "      <td>40.740486</td>\n",
       "      <td>-73.996552</td>\n",
       "      <td>40.739170</td>\n",
       "      <td>N</td>\n",
       "      <td>213</td>\n",
       "      <td>952.229133</td>\n",
       "    </tr>\n",
       "  </tbody>\n",
       "</table>\n",
       "</div>"
      ],
      "text/plain": [
       "               id  vendor_id      pickup_datetime     dropoff_datetime  \\\n",
       "34578   id0224449          1  2016-06-29 13:01:56  2016-06-29 13:10:52   \n",
       "570415  id1754958          1  2016-05-31 07:34:14  2016-05-31 07:41:35   \n",
       "181037  id3767891          1  2016-02-25 23:08:28  2016-02-25 23:14:44   \n",
       "40245   id1596279          1  2016-04-14 23:17:18  2016-04-14 23:20:21   \n",
       "630600  id1856925          1  2016-02-24 13:30:53  2016-02-24 13:34:26   \n",
       "\n",
       "        passenger_count  pickup_longitude  pickup_latitude  dropoff_longitude  \\\n",
       "34578                 1        -73.994011        40.726788         -73.989815   \n",
       "570415                2        -73.991646        40.750084         -74.003021   \n",
       "181037                1        -73.994263        40.724880         -74.005699   \n",
       "40245                 1        -73.979431        40.781830         -73.968597   \n",
       "630600                1        -73.998466        40.740486         -73.996552   \n",
       "\n",
       "        dropoff_latitude store_and_fwd_flag  trip_duration  trip_duration_mean  \n",
       "34578          40.725601                  N            536          952.229133  \n",
       "570415         40.755383                  N            441          952.229133  \n",
       "181037         40.732235                  N            376          952.229133  \n",
       "40245          40.786777                  N            183          952.229133  \n",
       "630600         40.739170                  N            213          952.229133  "
      ]
     },
     "execution_count": 35,
     "metadata": {},
     "output_type": "execute_result"
    }
   ],
   "source": [
    "train.head()"
   ]
  },
  {
   "cell_type": "code",
   "execution_count": 36,
   "id": "9094da05",
   "metadata": {},
   "outputs": [
    {
     "data": {
      "text/html": [
       "<div>\n",
       "<style scoped>\n",
       "    .dataframe tbody tr th:only-of-type {\n",
       "        vertical-align: middle;\n",
       "    }\n",
       "\n",
       "    .dataframe tbody tr th {\n",
       "        vertical-align: top;\n",
       "    }\n",
       "\n",
       "    .dataframe thead th {\n",
       "        text-align: right;\n",
       "    }\n",
       "</style>\n",
       "<table border=\"1\" class=\"dataframe\">\n",
       "  <thead>\n",
       "    <tr style=\"text-align: right;\">\n",
       "      <th></th>\n",
       "      <th>id</th>\n",
       "      <th>vendor_id</th>\n",
       "      <th>pickup_datetime</th>\n",
       "      <th>dropoff_datetime</th>\n",
       "      <th>passenger_count</th>\n",
       "      <th>pickup_longitude</th>\n",
       "      <th>pickup_latitude</th>\n",
       "      <th>dropoff_longitude</th>\n",
       "      <th>dropoff_latitude</th>\n",
       "      <th>store_and_fwd_flag</th>\n",
       "      <th>trip_duration</th>\n",
       "      <th>trip_duration_mean</th>\n",
       "    </tr>\n",
       "  </thead>\n",
       "  <tbody>\n",
       "    <tr>\n",
       "      <th>546988</th>\n",
       "      <td>id0453816</td>\n",
       "      <td>1</td>\n",
       "      <td>2016-02-17 13:53:18</td>\n",
       "      <td>2016-02-17 13:53:39</td>\n",
       "      <td>1</td>\n",
       "      <td>-73.973793</td>\n",
       "      <td>40.758221</td>\n",
       "      <td>-73.973442</td>\n",
       "      <td>40.758633</td>\n",
       "      <td>N</td>\n",
       "      <td>21</td>\n",
       "      <td>952.229133</td>\n",
       "    </tr>\n",
       "    <tr>\n",
       "      <th>51697</th>\n",
       "      <td>id0669462</td>\n",
       "      <td>2</td>\n",
       "      <td>2016-05-26 04:41:50</td>\n",
       "      <td>2016-05-26 04:54:30</td>\n",
       "      <td>1</td>\n",
       "      <td>-73.781837</td>\n",
       "      <td>40.644707</td>\n",
       "      <td>-73.783020</td>\n",
       "      <td>40.692711</td>\n",
       "      <td>N</td>\n",
       "      <td>760</td>\n",
       "      <td>952.229133</td>\n",
       "    </tr>\n",
       "    <tr>\n",
       "      <th>619813</th>\n",
       "      <td>id2392856</td>\n",
       "      <td>1</td>\n",
       "      <td>2016-06-17 10:01:07</td>\n",
       "      <td>2016-06-17 10:05:47</td>\n",
       "      <td>1</td>\n",
       "      <td>-73.977234</td>\n",
       "      <td>40.779446</td>\n",
       "      <td>-73.990067</td>\n",
       "      <td>40.772404</td>\n",
       "      <td>N</td>\n",
       "      <td>280</td>\n",
       "      <td>952.229133</td>\n",
       "    </tr>\n",
       "    <tr>\n",
       "      <th>705817</th>\n",
       "      <td>id1487170</td>\n",
       "      <td>2</td>\n",
       "      <td>2016-03-27 23:10:16</td>\n",
       "      <td>2016-03-27 23:15:44</td>\n",
       "      <td>1</td>\n",
       "      <td>-73.999420</td>\n",
       "      <td>40.731331</td>\n",
       "      <td>-73.989639</td>\n",
       "      <td>40.740650</td>\n",
       "      <td>N</td>\n",
       "      <td>328</td>\n",
       "      <td>952.229133</td>\n",
       "    </tr>\n",
       "    <tr>\n",
       "      <th>57767</th>\n",
       "      <td>id1457212</td>\n",
       "      <td>1</td>\n",
       "      <td>2016-05-06 17:49:43</td>\n",
       "      <td>2016-05-06 18:11:24</td>\n",
       "      <td>3</td>\n",
       "      <td>-73.983932</td>\n",
       "      <td>40.765045</td>\n",
       "      <td>-73.978958</td>\n",
       "      <td>40.744766</td>\n",
       "      <td>N</td>\n",
       "      <td>1301</td>\n",
       "      <td>952.229133</td>\n",
       "    </tr>\n",
       "  </tbody>\n",
       "</table>\n",
       "</div>"
      ],
      "text/plain": [
       "               id  vendor_id      pickup_datetime     dropoff_datetime  \\\n",
       "546988  id0453816          1  2016-02-17 13:53:18  2016-02-17 13:53:39   \n",
       "51697   id0669462          2  2016-05-26 04:41:50  2016-05-26 04:54:30   \n",
       "619813  id2392856          1  2016-06-17 10:01:07  2016-06-17 10:05:47   \n",
       "705817  id1487170          2  2016-03-27 23:10:16  2016-03-27 23:15:44   \n",
       "57767   id1457212          1  2016-05-06 17:49:43  2016-05-06 18:11:24   \n",
       "\n",
       "        passenger_count  pickup_longitude  pickup_latitude  dropoff_longitude  \\\n",
       "546988                1        -73.973793        40.758221         -73.973442   \n",
       "51697                 1        -73.781837        40.644707         -73.783020   \n",
       "619813                1        -73.977234        40.779446         -73.990067   \n",
       "705817                1        -73.999420        40.731331         -73.989639   \n",
       "57767                 3        -73.983932        40.765045         -73.978958   \n",
       "\n",
       "        dropoff_latitude store_and_fwd_flag  trip_duration  trip_duration_mean  \n",
       "546988         40.758633                  N             21          952.229133  \n",
       "51697          40.692711                  N            760          952.229133  \n",
       "619813         40.772404                  N            280          952.229133  \n",
       "705817         40.740650                  N            328          952.229133  \n",
       "57767          40.744766                  N           1301          952.229133  "
      ]
     },
     "execution_count": 36,
     "metadata": {},
     "output_type": "execute_result"
    }
   ],
   "source": [
    "test.head()"
   ]
  },
  {
   "cell_type": "code",
   "execution_count": 38,
   "id": "a262c171",
   "metadata": {},
   "outputs": [
    {
     "data": {
      "text/plain": [
       "3163.1118004692"
      ]
     },
     "execution_count": 38,
     "metadata": {},
     "output_type": "execute_result"
    }
   ],
   "source": [
    "#calculate RMSE\n",
    "\n",
    "trip_dur_mean_error = sqrt((mse(test.trip_duration , test.trip_duration_mean)))\n",
    "trip_dur_mean_error"
   ]
  },
  {
   "cell_type": "markdown",
   "id": "4e2765e5",
   "metadata": {},
   "source": [
    "## Lattitude & Longitude"
   ]
  },
  {
   "cell_type": "code",
   "execution_count": 20,
   "id": "bedeee8e",
   "metadata": {},
   "outputs": [
    {
     "data": {
      "text/plain": [
       "count    729321.000000\n",
       "mean        -73.973513\n",
       "std           0.069754\n",
       "min        -121.933342\n",
       "25%         -73.991859\n",
       "50%         -73.981758\n",
       "75%         -73.967361\n",
       "max         -65.897385\n",
       "Name: pickup_longitude, dtype: float64"
      ]
     },
     "execution_count": 20,
     "metadata": {},
     "output_type": "execute_result"
    }
   ],
   "source": [
    "df.pickup_longitude.describe()"
   ]
  },
  {
   "cell_type": "code",
   "execution_count": 21,
   "id": "ddb188d4",
   "metadata": {},
   "outputs": [
    {
     "data": {
      "image/png": "[encoded data removed]",
      "text/plain": [
       "<Figure size 500x500 with 1 Axes>"
      ]
     },
     "metadata": {},
     "output_type": "display_data"
    }
   ],
   "source": [
    "# Check outlier with boxplot\n",
    "\n",
    "plt.figure(figsize=(5,5))\n",
    "sns.boxplot(df.pickup_longitude)\n",
    "plt.show()"
   ]
  },
  {
   "cell_type": "markdown",
   "id": "f17ab076",
   "metadata": {},
   "source": [
    "## Observation\n",
    "\n",
    "    1.We can see that here is one outlier present so we have to removeit\n",
    "    2.One longitude is below -120 which is not good for our prdicttion"
   ]
  },
  {
   "cell_type": "code",
   "execution_count": 22,
   "id": "c62ddbf9",
   "metadata": {},
   "outputs": [
    {
     "data": {
      "text/html": [
       "<div>\n",
       "<style scoped>\n",
       "    .dataframe tbody tr th:only-of-type {\n",
       "        vertical-align: middle;\n",
       "    }\n",
       "\n",
       "    .dataframe tbody tr th {\n",
       "        vertical-align: top;\n",
       "    }\n",
       "\n",
       "    .dataframe thead th {\n",
       "        text-align: right;\n",
       "    }\n",
       "</style>\n",
       "<table border=\"1\" class=\"dataframe\">\n",
       "  <thead>\n",
       "    <tr style=\"text-align: right;\">\n",
       "      <th></th>\n",
       "      <th>id</th>\n",
       "      <th>vendor_id</th>\n",
       "      <th>pickup_datetime</th>\n",
       "      <th>dropoff_datetime</th>\n",
       "      <th>passenger_count</th>\n",
       "      <th>pickup_longitude</th>\n",
       "      <th>pickup_latitude</th>\n",
       "      <th>dropoff_longitude</th>\n",
       "      <th>dropoff_latitude</th>\n",
       "      <th>store_and_fwd_flag</th>\n",
       "      <th>trip_duration</th>\n",
       "      <th>trip_duration_mean</th>\n",
       "    </tr>\n",
       "  </thead>\n",
       "  <tbody>\n",
       "    <tr>\n",
       "      <th>421819</th>\n",
       "      <td>id2854272</td>\n",
       "      <td>2</td>\n",
       "      <td>2016-02-26 13:50:19</td>\n",
       "      <td>2016-02-26 13:58:38</td>\n",
       "      <td>2</td>\n",
       "      <td>-121.933342</td>\n",
       "      <td>37.389381</td>\n",
       "      <td>-121.933304</td>\n",
       "      <td>37.389511</td>\n",
       "      <td>N</td>\n",
       "      <td>499</td>\n",
       "      <td>952.229133</td>\n",
       "    </tr>\n",
       "  </tbody>\n",
       "</table>\n",
       "</div>"
      ],
      "text/plain": [
       "               id  vendor_id      pickup_datetime     dropoff_datetime  \\\n",
       "421819  id2854272          2  2016-02-26 13:50:19  2016-02-26 13:58:38   \n",
       "\n",
       "        passenger_count  pickup_longitude  pickup_latitude  dropoff_longitude  \\\n",
       "421819                2       -121.933342        37.389381        -121.933304   \n",
       "\n",
       "        dropoff_latitude store_and_fwd_flag  trip_duration  trip_duration_mean  \n",
       "421819         37.389511                  N            499          952.229133  "
      ]
     },
     "execution_count": 22,
     "metadata": {},
     "output_type": "execute_result"
    }
   ],
   "source": [
    "df[df.pickup_longitude<=-120]"
   ]
  },
  {
   "cell_type": "code",
   "execution_count": 24,
   "id": "9a18d95a",
   "metadata": {},
   "outputs": [
    {
     "name": "stdout",
     "output_type": "stream",
     "text": [
      "(array([421818], dtype=int64),)\n"
     ]
    },
    {
     "data": {
      "text/plain": [
       "id                              id2854272\n",
       "vendor_id                               2\n",
       "pickup_datetime       2016-02-26 13:50:19\n",
       "dropoff_datetime      2016-02-26 13:58:38\n",
       "passenger_count                         2\n",
       "pickup_longitude              -121.933342\n",
       "pickup_latitude                 37.389381\n",
       "dropoff_longitude             -121.933304\n",
       "dropoff_latitude                37.389511\n",
       "store_and_fwd_flag                      N\n",
       "trip_duration                         499\n",
       "trip_duration_mean             952.229133\n",
       "Name: 421819, dtype: object"
      ]
     },
     "execution_count": 24,
     "metadata": {},
     "output_type": "execute_result"
    }
   ],
   "source": [
    "# check inedx of that outlier\n",
    "\n",
    "print(np.where(df['pickup_longitude']<=-120))\n",
    "\n",
    "# check all features of that index\n",
    "df.iloc[421818]"
   ]
  },
  {
   "cell_type": "code",
   "execution_count": 25,
   "id": "bbc86a31",
   "metadata": {},
   "outputs": [],
   "source": [
    "# Remove outliers\n",
    "\n",
    "df.drop(df.index[421818],inplace=True)"
   ]
  },
  {
   "cell_type": "code",
   "execution_count": 39,
   "id": "3fdf8414",
   "metadata": {},
   "outputs": [
    {
     "data": {
      "text/html": [
       "<div>\n",
       "<style scoped>\n",
       "    .dataframe tbody tr th:only-of-type {\n",
       "        vertical-align: middle;\n",
       "    }\n",
       "\n",
       "    .dataframe tbody tr th {\n",
       "        vertical-align: top;\n",
       "    }\n",
       "\n",
       "    .dataframe thead th {\n",
       "        text-align: right;\n",
       "    }\n",
       "</style>\n",
       "<table border=\"1\" class=\"dataframe\">\n",
       "  <thead>\n",
       "    <tr style=\"text-align: right;\">\n",
       "      <th></th>\n",
       "      <th>trip_duration</th>\n",
       "    </tr>\n",
       "    <tr>\n",
       "      <th>pickup_longitude</th>\n",
       "      <th></th>\n",
       "    </tr>\n",
       "  </thead>\n",
       "  <tbody>\n",
       "    <tr>\n",
       "      <th>-79.569733</th>\n",
       "      <td>548.0</td>\n",
       "    </tr>\n",
       "    <tr>\n",
       "      <th>-75.354332</th>\n",
       "      <td>875.0</td>\n",
       "    </tr>\n",
       "    <tr>\n",
       "      <th>-74.726715</th>\n",
       "      <td>224.0</td>\n",
       "    </tr>\n",
       "    <tr>\n",
       "      <th>-74.612442</th>\n",
       "      <td>105.0</td>\n",
       "    </tr>\n",
       "    <tr>\n",
       "      <th>-74.584427</th>\n",
       "      <td>28.0</td>\n",
       "    </tr>\n",
       "    <tr>\n",
       "      <th>...</th>\n",
       "      <td>...</td>\n",
       "    </tr>\n",
       "    <tr>\n",
       "      <th>-73.092278</th>\n",
       "      <td>145.0</td>\n",
       "    </tr>\n",
       "    <tr>\n",
       "      <th>-72.809669</th>\n",
       "      <td>792.0</td>\n",
       "    </tr>\n",
       "    <tr>\n",
       "      <th>-72.591019</th>\n",
       "      <td>799.0</td>\n",
       "    </tr>\n",
       "    <tr>\n",
       "      <th>-72.421227</th>\n",
       "      <td>53.0</td>\n",
       "    </tr>\n",
       "    <tr>\n",
       "      <th>-71.881645</th>\n",
       "      <td>632.0</td>\n",
       "    </tr>\n",
       "  </tbody>\n",
       "</table>\n",
       "<p>16701 rows × 1 columns</p>\n",
       "</div>"
      ],
      "text/plain": [
       "                  trip_duration\n",
       "pickup_longitude               \n",
       "-79.569733                548.0\n",
       "-75.354332                875.0\n",
       "-74.726715                224.0\n",
       "-74.612442                105.0\n",
       "-74.584427                 28.0\n",
       "...                         ...\n",
       "-73.092278                145.0\n",
       "-72.809669                792.0\n",
       "-72.591019                799.0\n",
       "-72.421227                 53.0\n",
       "-71.881645                632.0\n",
       "\n",
       "[16701 rows x 1 columns]"
      ]
     },
     "execution_count": 39,
     "metadata": {},
     "output_type": "execute_result"
    }
   ],
   "source": [
    "# In relation with the mean pickup_longitude, trip duration mean\n",
    "\n",
    "pickup_long = pd.pivot_table(train, values='trip_duration', index = ['pickup_longitude'], aggfunc=np.mean)\n",
    "pickup_long"
   ]
  },
  {
   "cell_type": "code",
   "execution_count": 40,
   "id": "aa5da1ba",
   "metadata": {},
   "outputs": [],
   "source": [
    "# Creating a new column and initializing it to 0\n",
    "\n",
    "test['pickup_longitude_mean'] = 0\n",
    "\n",
    "# For each unique pickup longitude entry\n",
    "\n",
    "for i in train['pickup_longitude'].unique():\n",
    "    \n",
    "  # Assign the mean value corresponding to unique entry\n",
    "\n",
    "  test['pickup_longitude_mean'][test['pickup_longitude'] == str(i)] = train['trip_duration'][train['pickup_longitude'] == str(i)].mean()"
   ]
  },
  {
   "cell_type": "code",
   "execution_count": 43,
   "id": "4b5f5a4e",
   "metadata": {},
   "outputs": [
    {
     "data": {
      "text/plain": [
       "3303.2939212918554"
      ]
     },
     "execution_count": 43,
     "metadata": {},
     "output_type": "execute_result"
    }
   ],
   "source": [
    "#calculating RMSE\n",
    "\n",
    "pickup_long_error = sqrt(mse(test['trip_duration'] , test['pickup_longitude_mean'] ))\n",
    "pickup_long_error"
   ]
  },
  {
   "cell_type": "markdown",
   "id": "b00eda94",
   "metadata": {},
   "source": [
    "Here we can observ that the RMSE of the trip duration mean with respect to the mean of pickup longitude is higher than the simple mean of the trip duration"
   ]
  },
  {
   "cell_type": "code",
   "execution_count": 44,
   "id": "bec77969",
   "metadata": {},
   "outputs": [
    {
     "data": {
      "text/html": [
       "<div>\n",
       "<style scoped>\n",
       "    .dataframe tbody tr th:only-of-type {\n",
       "        vertical-align: middle;\n",
       "    }\n",
       "\n",
       "    .dataframe tbody tr th {\n",
       "        vertical-align: top;\n",
       "    }\n",
       "\n",
       "    .dataframe thead th {\n",
       "        text-align: right;\n",
       "    }\n",
       "</style>\n",
       "<table border=\"1\" class=\"dataframe\">\n",
       "  <thead>\n",
       "    <tr style=\"text-align: right;\">\n",
       "      <th></th>\n",
       "      <th>trip_duration</th>\n",
       "    </tr>\n",
       "    <tr>\n",
       "      <th>pickup_latitude</th>\n",
       "      <th></th>\n",
       "    </tr>\n",
       "  </thead>\n",
       "  <tbody>\n",
       "    <tr>\n",
       "      <th>34.712234</th>\n",
       "      <td>875.0</td>\n",
       "    </tr>\n",
       "    <tr>\n",
       "      <th>40.099789</th>\n",
       "      <td>224.0</td>\n",
       "    </tr>\n",
       "    <tr>\n",
       "      <th>40.298828</th>\n",
       "      <td>240.0</td>\n",
       "    </tr>\n",
       "    <tr>\n",
       "      <th>40.355713</th>\n",
       "      <td>105.0</td>\n",
       "    </tr>\n",
       "    <tr>\n",
       "      <th>40.394730</th>\n",
       "      <td>28.0</td>\n",
       "    </tr>\n",
       "    <tr>\n",
       "      <th>...</th>\n",
       "      <td>...</td>\n",
       "    </tr>\n",
       "    <tr>\n",
       "      <th>41.319164</th>\n",
       "      <td>3190.0</td>\n",
       "    </tr>\n",
       "    <tr>\n",
       "      <th>41.586273</th>\n",
       "      <td>548.0</td>\n",
       "    </tr>\n",
       "    <tr>\n",
       "      <th>43.139652</th>\n",
       "      <td>799.0</td>\n",
       "    </tr>\n",
       "    <tr>\n",
       "      <th>43.911762</th>\n",
       "      <td>632.0</td>\n",
       "    </tr>\n",
       "    <tr>\n",
       "      <th>51.881084</th>\n",
       "      <td>792.0</td>\n",
       "    </tr>\n",
       "  </tbody>\n",
       "</table>\n",
       "<p>34746 rows × 1 columns</p>\n",
       "</div>"
      ],
      "text/plain": [
       "                 trip_duration\n",
       "pickup_latitude               \n",
       "34.712234                875.0\n",
       "40.099789                224.0\n",
       "40.298828                240.0\n",
       "40.355713                105.0\n",
       "40.394730                 28.0\n",
       "...                        ...\n",
       "41.319164               3190.0\n",
       "41.586273                548.0\n",
       "43.139652                799.0\n",
       "43.911762                632.0\n",
       "51.881084                792.0\n",
       "\n",
       "[34746 rows x 1 columns]"
      ]
     },
     "execution_count": 44,
     "metadata": {},
     "output_type": "execute_result"
    }
   ],
   "source": [
    "# In relation with the mean pickup_latitude, trip duration mean\n",
    "\n",
    "pickup_lat =pd.pivot_table(train, values='trip_duration', index = ['pickup_latitude'], aggfunc=np.mean)\n",
    "pickup_lat"
   ]
  },
  {
   "cell_type": "code",
   "execution_count": 46,
   "id": "8f95847c",
   "metadata": {},
   "outputs": [],
   "source": [
    "# Creating a new column and initializing it to 0\n",
    "\n",
    "test['pickup_lat_mean'] = 0\n",
    "\n",
    "# For each unique pickup latitude entry\n",
    "\n",
    "for i in train['pickup_latitude'].unique():\n",
    "    \n",
    "  # Assign the mean value corresponding to unique entry\n",
    "  test['pickup_lat_mean'][test['pickup_latitude'] == str(i)] = train['trip_duration'][train['pickup_latitude'] == str(i)].mean()"
   ]
  },
  {
   "cell_type": "code",
   "execution_count": 47,
   "id": "7221c22e",
   "metadata": {},
   "outputs": [
    {
     "data": {
      "text/plain": [
       "3303.2939212918554"
      ]
     },
     "execution_count": 47,
     "metadata": {},
     "output_type": "execute_result"
    }
   ],
   "source": [
    "#calculate RMSE\n",
    "pickup_lat_error = sqrt(mse(test['trip_duration'] , test['pickup_lat_mean'] ))\n",
    "pickup_lat_error"
   ]
  },
  {
   "cell_type": "markdown",
   "id": "a938bb66",
   "metadata": {},
   "source": [
    "Here we can observe that pick latitude error is same as pickup longitude error"
   ]
  },
  {
   "cell_type": "code",
   "execution_count": 48,
   "id": "ccf73738",
   "metadata": {},
   "outputs": [
    {
     "data": {
      "text/html": [
       "<div>\n",
       "<style scoped>\n",
       "    .dataframe tbody tr th:only-of-type {\n",
       "        vertical-align: middle;\n",
       "    }\n",
       "\n",
       "    .dataframe tbody tr th {\n",
       "        vertical-align: top;\n",
       "    }\n",
       "\n",
       "    .dataframe thead th {\n",
       "        text-align: right;\n",
       "    }\n",
       "</style>\n",
       "<table border=\"1\" class=\"dataframe\">\n",
       "  <thead>\n",
       "    <tr style=\"text-align: right;\">\n",
       "      <th></th>\n",
       "      <th>trip_duration</th>\n",
       "    </tr>\n",
       "    <tr>\n",
       "      <th>dropoff_latitude</th>\n",
       "      <th></th>\n",
       "    </tr>\n",
       "  </thead>\n",
       "  <tbody>\n",
       "    <tr>\n",
       "      <th>32.181141</th>\n",
       "      <td>875.0</td>\n",
       "    </tr>\n",
       "    <tr>\n",
       "      <th>38.478298</th>\n",
       "      <td>804.0</td>\n",
       "    </tr>\n",
       "    <tr>\n",
       "      <th>38.946033</th>\n",
       "      <td>282.0</td>\n",
       "    </tr>\n",
       "    <tr>\n",
       "      <th>40.153744</th>\n",
       "      <td>224.0</td>\n",
       "    </tr>\n",
       "    <tr>\n",
       "      <th>40.293289</th>\n",
       "      <td>4090.0</td>\n",
       "    </tr>\n",
       "    <tr>\n",
       "      <th>...</th>\n",
       "      <td>...</td>\n",
       "    </tr>\n",
       "    <tr>\n",
       "      <th>41.317879</th>\n",
       "      <td>21.0</td>\n",
       "    </tr>\n",
       "    <tr>\n",
       "      <th>42.090183</th>\n",
       "      <td>548.0</td>\n",
       "    </tr>\n",
       "    <tr>\n",
       "      <th>43.139652</th>\n",
       "      <td>799.0</td>\n",
       "    </tr>\n",
       "    <tr>\n",
       "      <th>43.911762</th>\n",
       "      <td>632.0</td>\n",
       "    </tr>\n",
       "    <tr>\n",
       "      <th>43.921028</th>\n",
       "      <td>3267.0</td>\n",
       "    </tr>\n",
       "  </tbody>\n",
       "</table>\n",
       "<p>44750 rows × 1 columns</p>\n",
       "</div>"
      ],
      "text/plain": [
       "                  trip_duration\n",
       "dropoff_latitude               \n",
       "32.181141                 875.0\n",
       "38.478298                 804.0\n",
       "38.946033                 282.0\n",
       "40.153744                 224.0\n",
       "40.293289                4090.0\n",
       "...                         ...\n",
       "41.317879                  21.0\n",
       "42.090183                 548.0\n",
       "43.139652                 799.0\n",
       "43.911762                 632.0\n",
       "43.921028                3267.0\n",
       "\n",
       "[44750 rows x 1 columns]"
      ]
     },
     "execution_count": 48,
     "metadata": {},
     "output_type": "execute_result"
    }
   ],
   "source": [
    "# In relation with the mean dropoff_laatitude, trip duration mean\n",
    "\n",
    "drop_off_lat = pd.pivot_table(train, values='trip_duration', index = [\"dropoff_latitude\"], aggfunc=np.mean)\n",
    "drop_off_lat"
   ]
  },
  {
   "cell_type": "code",
   "execution_count": 49,
   "id": "2e1403d6",
   "metadata": {},
   "outputs": [],
   "source": [
    "# Creating a new column and initializing it to 0\n",
    "\n",
    "test['drop_off_lat'] = 0\n",
    "\n",
    "# For each unique dropoff latitude entry\n",
    "\n",
    "for i in train['dropoff_latitude'].unique():\n",
    "  # Assign the mean value corresponding to unique entry\n",
    "  test['drop_off_lat'][test['dropoff_latitude'] == str(i)] = train['trip_duration'][train['dropoff_latitude'] == str(i)].mean()"
   ]
  },
  {
   "cell_type": "code",
   "execution_count": 50,
   "id": "23ba04db",
   "metadata": {},
   "outputs": [
    {
     "data": {
      "text/plain": [
       "3303.2939212918554"
      ]
     },
     "execution_count": 50,
     "metadata": {},
     "output_type": "execute_result"
    }
   ],
   "source": [
    "drop_lat_error = sqrt(mse(test['drop_off_lat'] , test['trip_duration'] ))\n",
    "drop_lat_error"
   ]
  },
  {
   "cell_type": "markdown",
   "id": "f222accc",
   "metadata": {},
   "source": [
    "## Passenger_Count"
   ]
  },
  {
   "cell_type": "code",
   "execution_count": 29,
   "id": "36db553c",
   "metadata": {},
   "outputs": [
    {
     "data": {
      "text/plain": [
       "<function matplotlib.pyplot.show(close=None, block=None)>"
      ]
     },
     "execution_count": 29,
     "metadata": {},
     "output_type": "execute_result"
    },
    {
     "data": {
      "image/png": "[encoded data removed]",
      "text/plain": [
       "<Figure size 1500x500 with 1 Axes>"
      ]
     },
     "metadata": {},
     "output_type": "display_data"
    }
   ],
   "source": [
    "plt.figure(figsize=(15,5))\n",
    "sns.boxplot(df.passenger_count)\n",
    "plt.show"
   ]
  },
  {
   "cell_type": "markdown",
   "id": "ae783d82",
   "metadata": {},
   "source": [
    "## Observations:\n",
    "    1.There are some trips with 0 passenger count.\n",
    "    2.Few trips consisted of even 7,9 passengers. Clear outliers and pointers to data inconsistency\n",
    "    3.Most of trip consist of passenger either 1 or 2."
   ]
  },
  {
   "cell_type": "markdown",
   "id": "62fb2e76",
   "metadata": {},
   "source": [
    "## Fact\n",
    "        Passenger count is a driver entered value. Since the trip is not possible without passengers. It is evident that the driver forgot to enter the value for the trips with 0 passenger count. Lets analyze the passenger count distribution further to make it consistent for further analysis"
   ]
  },
  {
   "cell_type": "code",
   "execution_count": 30,
   "id": "2b0244ba",
   "metadata": {},
   "outputs": [
    {
     "data": {
      "text/plain": [
       "count    729320.000000\n",
       "mean          1.662055\n",
       "std           1.312447\n",
       "min           0.000000\n",
       "25%           1.000000\n",
       "50%           1.000000\n",
       "75%           2.000000\n",
       "max           9.000000\n",
       "Name: passenger_count, dtype: float64"
      ]
     },
     "execution_count": 30,
     "metadata": {},
     "output_type": "execute_result"
    }
   ],
   "source": [
    "df['passenger_count'].describe()"
   ]
  },
  {
   "cell_type": "markdown",
   "id": "c1631464",
   "metadata": {},
   "source": [
    "As per above details. Mean median and mode are all approx equal to 1. So we would replace the 0 passenger count with 1."
   ]
  },
  {
   "cell_type": "code",
   "execution_count": 31,
   "id": "60494f55",
   "metadata": {},
   "outputs": [],
   "source": [
    "df['passenger_count']=df.passenger_count.map(lambda x:1 if x==0 else x)"
   ]
  },
  {
   "cell_type": "markdown",
   "id": "da77ac5b",
   "metadata": {},
   "source": [
    "Also, we will remove the records with passenger count > 7, 8 or 9 as they are extreme values and looks very odd to be ocupied in a taxi."
   ]
  },
  {
   "cell_type": "code",
   "execution_count": 32,
   "id": "24802634",
   "metadata": {},
   "outputs": [],
   "source": [
    "df=df[df.passenger_count<=6]"
   ]
  },
  {
   "cell_type": "code",
   "execution_count": 33,
   "id": "32cddf48",
   "metadata": {},
   "outputs": [
    {
     "data": {
      "text/plain": [
       "1    517447\n",
       "2    105096\n",
       "5     38926\n",
       "3     29692\n",
       "6     24107\n",
       "4     14050\n",
       "Name: passenger_count, dtype: int64"
      ]
     },
     "execution_count": 33,
     "metadata": {},
     "output_type": "execute_result"
    }
   ],
   "source": [
    "df['passenger_count'].value_counts()"
   ]
  },
  {
   "cell_type": "markdown",
   "id": "89644cb4",
   "metadata": {},
   "source": [
    "Now the data is consistent with respect to the passenger count. Let's take a look at the ditribution with a graph below"
   ]
  },
  {
   "cell_type": "code",
   "execution_count": 51,
   "id": "474094bc",
   "metadata": {},
   "outputs": [
    {
     "data": {
      "text/html": [
       "<div>\n",
       "<style scoped>\n",
       "    .dataframe tbody tr th:only-of-type {\n",
       "        vertical-align: middle;\n",
       "    }\n",
       "\n",
       "    .dataframe tbody tr th {\n",
       "        vertical-align: top;\n",
       "    }\n",
       "\n",
       "    .dataframe thead th {\n",
       "        text-align: right;\n",
       "    }\n",
       "</style>\n",
       "<table border=\"1\" class=\"dataframe\">\n",
       "  <thead>\n",
       "    <tr style=\"text-align: right;\">\n",
       "      <th></th>\n",
       "      <th>trip_duration</th>\n",
       "    </tr>\n",
       "    <tr>\n",
       "      <th>passenger_count</th>\n",
       "      <th></th>\n",
       "    </tr>\n",
       "  </thead>\n",
       "  <tbody>\n",
       "    <tr>\n",
       "      <th>1</th>\n",
       "      <td>917.538900</td>\n",
       "    </tr>\n",
       "    <tr>\n",
       "      <th>2</th>\n",
       "      <td>986.385810</td>\n",
       "    </tr>\n",
       "    <tr>\n",
       "      <th>3</th>\n",
       "      <td>1010.533202</td>\n",
       "    </tr>\n",
       "    <tr>\n",
       "      <th>4</th>\n",
       "      <td>999.464860</td>\n",
       "    </tr>\n",
       "    <tr>\n",
       "      <th>5</th>\n",
       "      <td>1081.423008</td>\n",
       "    </tr>\n",
       "    <tr>\n",
       "      <th>6</th>\n",
       "      <td>1079.423048</td>\n",
       "    </tr>\n",
       "  </tbody>\n",
       "</table>\n",
       "</div>"
      ],
      "text/plain": [
       "                 trip_duration\n",
       "passenger_count               \n",
       "1                   917.538900\n",
       "2                   986.385810\n",
       "3                  1010.533202\n",
       "4                   999.464860\n",
       "5                  1081.423008\n",
       "6                  1079.423048"
      ]
     },
     "execution_count": 51,
     "metadata": {},
     "output_type": "execute_result"
    }
   ],
   "source": [
    "# In relation with the mean passenger count, trip duration mean\n",
    "\n",
    "pass_count = pd.pivot_table(train, values='trip_duration', index = [\"passenger_count\"], aggfunc=np.mean)\n",
    "pass_count"
   ]
  },
  {
   "cell_type": "code",
   "execution_count": 52,
   "id": "86b6ed2d",
   "metadata": {},
   "outputs": [],
   "source": [
    "# Creating a new column and initializing it to 0\n",
    "\n",
    "test['pass_count_mean'] = 0\n",
    "\n",
    "# For each unique passenger count entry\n",
    "\n",
    "for i in train['passenger_count'].unique():\n",
    "    \n",
    "  # Assign the mean value corresponding to unique entry\n",
    "  test['pass_count_mean'][test['passenger_count'] == str(i)] = train['trip_duration'][train['passenger_count'] == str(i)].mean()"
   ]
  },
  {
   "cell_type": "code",
   "execution_count": 53,
   "id": "69a493d5",
   "metadata": {},
   "outputs": [
    {
     "data": {
      "text/plain": [
       "3303.2939212918554"
      ]
     },
     "execution_count": 53,
     "metadata": {},
     "output_type": "execute_result"
    }
   ],
   "source": [
    "pass_count_error = sqrt(mse(test['trip_duration'] , test['pass_count_mean'] ))\n",
    "pass_count_error"
   ]
  },
  {
   "cell_type": "markdown",
   "id": "590377be",
   "metadata": {},
   "source": [
    "## store_and_fwd_flag"
   ]
  },
  {
   "cell_type": "code",
   "execution_count": 54,
   "id": "ef601371",
   "metadata": {},
   "outputs": [
    {
     "data": {
      "text/html": [
       "<div>\n",
       "<style scoped>\n",
       "    .dataframe tbody tr th:only-of-type {\n",
       "        vertical-align: middle;\n",
       "    }\n",
       "\n",
       "    .dataframe tbody tr th {\n",
       "        vertical-align: top;\n",
       "    }\n",
       "\n",
       "    .dataframe thead th {\n",
       "        text-align: right;\n",
       "    }\n",
       "</style>\n",
       "<table border=\"1\" class=\"dataframe\">\n",
       "  <thead>\n",
       "    <tr style=\"text-align: right;\">\n",
       "      <th></th>\n",
       "      <th>trip_duration</th>\n",
       "    </tr>\n",
       "    <tr>\n",
       "      <th>store_and_fwd_flag</th>\n",
       "      <th></th>\n",
       "    </tr>\n",
       "  </thead>\n",
       "  <tbody>\n",
       "    <tr>\n",
       "      <th>N</th>\n",
       "      <td>946.260915</td>\n",
       "    </tr>\n",
       "    <tr>\n",
       "      <th>Y</th>\n",
       "      <td>1086.768763</td>\n",
       "    </tr>\n",
       "  </tbody>\n",
       "</table>\n",
       "</div>"
      ],
      "text/plain": [
       "                    trip_duration\n",
       "store_and_fwd_flag               \n",
       "N                      946.260915\n",
       "Y                     1086.768763"
      ]
     },
     "execution_count": 54,
     "metadata": {},
     "output_type": "execute_result"
    }
   ],
   "source": [
    "# In relation with the mean store_and_fwd_flag, trip duration mean\n",
    "\n",
    "store_and_fwd = pd.pivot_table(train, values='trip_duration', index = [\"store_and_fwd_flag\"], aggfunc=np.mean)\n",
    "store_and_fwd "
   ]
  },
  {
   "cell_type": "code",
   "execution_count": 55,
   "id": "32c1942f",
   "metadata": {},
   "outputs": [],
   "source": [
    "# Creating a new column and initializing it to 0\n",
    "\n",
    "test['store_and_fwd'] = 0\n",
    "\n",
    "# For each unique passenger count entry\n",
    "\n",
    "for i in train['store_and_fwd_flag'].unique():\n",
    "  # Assign the mean value corresponding to unique entry\n",
    "  test['store_and_fwd'][test['store_and_fwd_flag'] == str(i)] = train['trip_duration'][train['store_and_fwd_flag'] == str(i)].mean()"
   ]
  },
  {
   "cell_type": "code",
   "execution_count": 56,
   "id": "8da45e3e",
   "metadata": {},
   "outputs": [
    {
     "data": {
      "text/plain": [
       "3163.095613052802"
      ]
     },
     "execution_count": 56,
     "metadata": {},
     "output_type": "execute_result"
    }
   ],
   "source": [
    "str_and_fwd_error = sqrt(mse(test['store_and_fwd'] , test['trip_duration'] ))\n",
    "str_and_fwd_error"
   ]
  },
  {
   "cell_type": "markdown",
   "id": "a4c6c87c",
   "metadata": {},
   "source": [
    "## conclusions\n",
    "    1.The error of simple mean of trip duration is 3163.1118004692 where as the store_and_fwd_flag is 3163.095613052802 there's only slight difference in the errors between the two.\n",
    "    2.The pickup longitude error , pickup latitude error and passenger count error is 3303.2939212918554"
   ]
  },
  {
   "cell_type": "code",
   "execution_count": null,
   "id": "9b9e8d38",
   "metadata": {},
   "outputs": [],
   "source": []
  }
 ],
 "metadata": {
  "kernelspec": {
   "display_name": "Python 3 (ipykernel)",
   "language": "python",
   "name": "python3"
  },
  "language_info": {
   "codemirror_mode": {
    "name": "ipython",
    "version": 3
   },
   "file_extension": ".py",
   "mimetype": "text/x-python",
   "name": "python",
   "nbconvert_exporter": "python",
   "pygments_lexer": "ipython3",
   "version": "3.9.12"
  },
  "widgets": {
   "application/vnd.jupyter.widget-state+json": {
    "state": {},
    "version_major": 2,
    "version_minor": 0
   }
  }
 },
 "nbformat": 4,
 "nbformat_minor": 5
}
